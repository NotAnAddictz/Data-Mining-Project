{
 "cells": [
  {
   "cell_type": "code",
   "execution_count": 66,
   "metadata": {},
   "outputs": [
    {
     "name": "stdout",
     "output_type": "stream",
     "text": [
      "\n"
     ]
    }
   ],
   "source": [
    "# Basic Libraries\n",
    "import numpy as np\n",
    "import pandas as pd"
   ]
  },
  {
   "cell_type": "code",
   "execution_count": 67,
   "metadata": {},
   "outputs": [
    {
     "data": {
      "text/html": [
       "<div>\n",
       "<style scoped>\n",
       "    .dataframe tbody tr th:only-of-type {\n",
       "        vertical-align: middle;\n",
       "    }\n",
       "\n",
       "    .dataframe tbody tr th {\n",
       "        vertical-align: top;\n",
       "    }\n",
       "\n",
       "    .dataframe thead th {\n",
       "        text-align: right;\n",
       "    }\n",
       "</style>\n",
       "<table border=\"1\" class=\"dataframe\">\n",
       "  <thead>\n",
       "    <tr style=\"text-align: right;\">\n",
       "      <th></th>\n",
       "      <th>playlist_url</th>\n",
       "      <th>year</th>\n",
       "      <th>track_id</th>\n",
       "      <th>track_name</th>\n",
       "      <th>track_popularity</th>\n",
       "      <th>album</th>\n",
       "      <th>artist_id</th>\n",
       "      <th>artist_name</th>\n",
       "      <th>artist_genres</th>\n",
       "      <th>artist_popularity</th>\n",
       "      <th>...</th>\n",
       "      <th>loudness</th>\n",
       "      <th>mode</th>\n",
       "      <th>speechiness</th>\n",
       "      <th>acousticness</th>\n",
       "      <th>instrumentalness</th>\n",
       "      <th>liveness</th>\n",
       "      <th>valence</th>\n",
       "      <th>tempo</th>\n",
       "      <th>duration_ms</th>\n",
       "      <th>time_signature</th>\n",
       "    </tr>\n",
       "  </thead>\n",
       "  <tbody>\n",
       "    <tr>\n",
       "      <th>0</th>\n",
       "      <td>https://open.spotify.com/playlist/37i9dQZF1DWU...</td>\n",
       "      <td>2000</td>\n",
       "      <td>6naxalmIoLFWR0siv8dnQQ</td>\n",
       "      <td>Oops!...I Did It Again</td>\n",
       "      <td>81</td>\n",
       "      <td>Oops!... I Did It Again</td>\n",
       "      <td>26dSoYclwsYLMAKD3tpOr4</td>\n",
       "      <td>Britney Spears</td>\n",
       "      <td>['dance pop', 'pop']</td>\n",
       "      <td>81</td>\n",
       "      <td>...</td>\n",
       "      <td>-5.444</td>\n",
       "      <td>0</td>\n",
       "      <td>0.0437</td>\n",
       "      <td>0.3000</td>\n",
       "      <td>0.000018</td>\n",
       "      <td>0.3550</td>\n",
       "      <td>0.894</td>\n",
       "      <td>95.053</td>\n",
       "      <td>211160</td>\n",
       "      <td>4</td>\n",
       "    </tr>\n",
       "    <tr>\n",
       "      <th>1</th>\n",
       "      <td>https://open.spotify.com/playlist/37i9dQZF1DWU...</td>\n",
       "      <td>2000</td>\n",
       "      <td>2m1hi0nfMR9vdGC8UcrnwU</td>\n",
       "      <td>All The Small Things</td>\n",
       "      <td>83</td>\n",
       "      <td>Enema Of The State</td>\n",
       "      <td>6FBDaR13swtiWwGhX1WQsP</td>\n",
       "      <td>blink-182</td>\n",
       "      <td>['alternative metal', 'modern rock', 'pop punk...</td>\n",
       "      <td>79</td>\n",
       "      <td>...</td>\n",
       "      <td>-4.918</td>\n",
       "      <td>1</td>\n",
       "      <td>0.0488</td>\n",
       "      <td>0.0103</td>\n",
       "      <td>0.000000</td>\n",
       "      <td>0.6120</td>\n",
       "      <td>0.684</td>\n",
       "      <td>148.726</td>\n",
       "      <td>167067</td>\n",
       "      <td>4</td>\n",
       "    </tr>\n",
       "    <tr>\n",
       "      <th>2</th>\n",
       "      <td>https://open.spotify.com/playlist/37i9dQZF1DWU...</td>\n",
       "      <td>2000</td>\n",
       "      <td>3y4LxiYMgDl4RethdzpmNe</td>\n",
       "      <td>Breathe</td>\n",
       "      <td>66</td>\n",
       "      <td>Breathe</td>\n",
       "      <td>25NQNriVT2YbSW80ILRWJa</td>\n",
       "      <td>Faith Hill</td>\n",
       "      <td>['contemporary country', 'country', 'country d...</td>\n",
       "      <td>62</td>\n",
       "      <td>...</td>\n",
       "      <td>-9.007</td>\n",
       "      <td>1</td>\n",
       "      <td>0.0290</td>\n",
       "      <td>0.1730</td>\n",
       "      <td>0.000000</td>\n",
       "      <td>0.2510</td>\n",
       "      <td>0.278</td>\n",
       "      <td>136.859</td>\n",
       "      <td>250547</td>\n",
       "      <td>4</td>\n",
       "    </tr>\n",
       "    <tr>\n",
       "      <th>3</th>\n",
       "      <td>https://open.spotify.com/playlist/37i9dQZF1DWU...</td>\n",
       "      <td>2000</td>\n",
       "      <td>0v1XpBHnsbkCn7iJ9Ucr1l</td>\n",
       "      <td>It's My Life</td>\n",
       "      <td>81</td>\n",
       "      <td>Crush</td>\n",
       "      <td>58lV9VcRSjABbAbfWS6skp</td>\n",
       "      <td>Bon Jovi</td>\n",
       "      <td>['glam metal', 'rock']</td>\n",
       "      <td>79</td>\n",
       "      <td>...</td>\n",
       "      <td>-4.063</td>\n",
       "      <td>0</td>\n",
       "      <td>0.0466</td>\n",
       "      <td>0.0263</td>\n",
       "      <td>0.000013</td>\n",
       "      <td>0.3470</td>\n",
       "      <td>0.544</td>\n",
       "      <td>119.992</td>\n",
       "      <td>224493</td>\n",
       "      <td>4</td>\n",
       "    </tr>\n",
       "    <tr>\n",
       "      <th>4</th>\n",
       "      <td>https://open.spotify.com/playlist/37i9dQZF1DWU...</td>\n",
       "      <td>2000</td>\n",
       "      <td>62bOmKYxYg7dhrC6gH9vFn</td>\n",
       "      <td>Bye Bye Bye</td>\n",
       "      <td>75</td>\n",
       "      <td>No Strings Attached</td>\n",
       "      <td>6Ff53KvcvAj5U7Z1vojB5o</td>\n",
       "      <td>*NSYNC</td>\n",
       "      <td>['boy band', 'dance pop', 'pop']</td>\n",
       "      <td>70</td>\n",
       "      <td>...</td>\n",
       "      <td>-4.843</td>\n",
       "      <td>0</td>\n",
       "      <td>0.0479</td>\n",
       "      <td>0.0310</td>\n",
       "      <td>0.001200</td>\n",
       "      <td>0.0821</td>\n",
       "      <td>0.861</td>\n",
       "      <td>172.638</td>\n",
       "      <td>200400</td>\n",
       "      <td>4</td>\n",
       "    </tr>\n",
       "  </tbody>\n",
       "</table>\n",
       "<p>5 rows × 23 columns</p>\n",
       "</div>"
      ],
      "text/plain": [
       "                                        playlist_url  year  \\\n",
       "0  https://open.spotify.com/playlist/37i9dQZF1DWU...  2000   \n",
       "1  https://open.spotify.com/playlist/37i9dQZF1DWU...  2000   \n",
       "2  https://open.spotify.com/playlist/37i9dQZF1DWU...  2000   \n",
       "3  https://open.spotify.com/playlist/37i9dQZF1DWU...  2000   \n",
       "4  https://open.spotify.com/playlist/37i9dQZF1DWU...  2000   \n",
       "\n",
       "                 track_id              track_name  track_popularity  \\\n",
       "0  6naxalmIoLFWR0siv8dnQQ  Oops!...I Did It Again                81   \n",
       "1  2m1hi0nfMR9vdGC8UcrnwU    All The Small Things                83   \n",
       "2  3y4LxiYMgDl4RethdzpmNe                 Breathe                66   \n",
       "3  0v1XpBHnsbkCn7iJ9Ucr1l            It's My Life                81   \n",
       "4  62bOmKYxYg7dhrC6gH9vFn             Bye Bye Bye                75   \n",
       "\n",
       "                     album               artist_id     artist_name  \\\n",
       "0  Oops!... I Did It Again  26dSoYclwsYLMAKD3tpOr4  Britney Spears   \n",
       "1       Enema Of The State  6FBDaR13swtiWwGhX1WQsP       blink-182   \n",
       "2                  Breathe  25NQNriVT2YbSW80ILRWJa      Faith Hill   \n",
       "3                    Crush  58lV9VcRSjABbAbfWS6skp        Bon Jovi   \n",
       "4      No Strings Attached  6Ff53KvcvAj5U7Z1vojB5o          *NSYNC   \n",
       "\n",
       "                                       artist_genres  artist_popularity  ...  \\\n",
       "0                               ['dance pop', 'pop']                 81  ...   \n",
       "1  ['alternative metal', 'modern rock', 'pop punk...                 79  ...   \n",
       "2  ['contemporary country', 'country', 'country d...                 62  ...   \n",
       "3                             ['glam metal', 'rock']                 79  ...   \n",
       "4                   ['boy band', 'dance pop', 'pop']                 70  ...   \n",
       "\n",
       "   loudness  mode  speechiness  acousticness  instrumentalness  liveness  \\\n",
       "0    -5.444     0       0.0437        0.3000          0.000018    0.3550   \n",
       "1    -4.918     1       0.0488        0.0103          0.000000    0.6120   \n",
       "2    -9.007     1       0.0290        0.1730          0.000000    0.2510   \n",
       "3    -4.063     0       0.0466        0.0263          0.000013    0.3470   \n",
       "4    -4.843     0       0.0479        0.0310          0.001200    0.0821   \n",
       "\n",
       "   valence    tempo  duration_ms  time_signature  \n",
       "0    0.894   95.053       211160               4  \n",
       "1    0.684  148.726       167067               4  \n",
       "2    0.278  136.859       250547               4  \n",
       "3    0.544  119.992       224493               4  \n",
       "4    0.861  172.638       200400               4  \n",
       "\n",
       "[5 rows x 23 columns]"
      ]
     },
     "execution_count": 67,
     "metadata": {},
     "output_type": "execute_result"
    }
   ],
   "source": [
    "data = pd.read_csv('data/spotify_00_23.csv', encoding=\"latin-1\")\n",
    "data.head()"
   ]
  },
  {
   "cell_type": "code",
   "execution_count": 68,
   "metadata": {},
   "outputs": [
    {
     "name": "stdout",
     "output_type": "stream",
     "text": [
      "<class 'pandas.core.frame.DataFrame'>\n",
      "RangeIndex: 2400 entries, 0 to 2399\n",
      "Data columns (total 20 columns):\n",
      " #   Column             Non-Null Count  Dtype  \n",
      "---  ------             --------------  -----  \n",
      " 0   year               2400 non-null   int64  \n",
      " 1   track_name         2400 non-null   object \n",
      " 2   track_popularity   2400 non-null   int64  \n",
      " 3   album              2400 non-null   object \n",
      " 4   artist_name        2400 non-null   object \n",
      " 5   artist_genres      2400 non-null   object \n",
      " 6   artist_popularity  2400 non-null   int64  \n",
      " 7   danceability       2400 non-null   float64\n",
      " 8   energy             2400 non-null   float64\n",
      " 9   key                2400 non-null   int64  \n",
      " 10  loudness           2400 non-null   float64\n",
      " 11  mode               2400 non-null   int64  \n",
      " 12  speechiness        2400 non-null   float64\n",
      " 13  acousticness       2400 non-null   float64\n",
      " 14  instrumentalness   2400 non-null   float64\n",
      " 15  liveness           2400 non-null   float64\n",
      " 16  valence            2400 non-null   float64\n",
      " 17  tempo              2400 non-null   float64\n",
      " 18  duration_ms        2400 non-null   int64  \n",
      " 19  time_signature     2400 non-null   int64  \n",
      "dtypes: float64(9), int64(7), object(4)\n",
      "memory usage: 375.1+ KB\n"
     ]
    }
   ],
   "source": [
    "removed_columns = [\"playlist_url\", \"track_id\", \"artist_id\"]\n",
    "data.drop(columns=removed_columns, inplace=True)\n",
    "data.info()"
   ]
  },
  {
   "cell_type": "code",
   "execution_count": 69,
   "metadata": {},
   "outputs": [],
   "source": [
    "data.reset_index(inplace=True, drop=True)\n",
    "data.to_csv(\"data/clean_data.csv\", sep=',', encoding='utf-8', index=False)"
   ]
  },
  {
   "cell_type": "code",
   "execution_count": 70,
   "metadata": {},
   "outputs": [
    {
     "name": "stdout",
     "output_type": "stream",
     "text": [
      "459\n",
      "366\n"
     ]
    }
   ],
   "source": [
    "unique = {}\n",
    "bigs = {}\n",
    "for i in data[\"artist_genres\"]:\n",
    "    i = i.strip(\"[\").strip(\"]\").split(\",\")\n",
    "    # i = i\n",
    "    for j in i:\n",
    "        j = j.strip(\"'\").strip(\" '\")\n",
    "        # print(j)\n",
    "        if j not in unique:\n",
    "            unique[j] = 1\n",
    "        else:\n",
    "            unique[j] += 1\n",
    "        for x in j.split():\n",
    "            if x in bigs.keys():\n",
    "                bigs[x] += 1\n",
    "            else:\n",
    "                bigs[x] = 1\n",
    "\n",
    "print(len(unique))\n",
    "print(len(bigs))"
   ]
  },
  {
   "cell_type": "code",
   "execution_count": 71,
   "metadata": {},
   "outputs": [
    {
     "name": "stdout",
     "output_type": "stream",
     "text": [
      "dance pop 570\n",
      "pop 1048\n",
      "r&b 228\n",
      "urban contemporary 225\n",
      "hip hop 269\n",
      "rap 409\n",
      "pop rap 291\n"
     ]
    }
   ],
   "source": [
    "for i in unique:\n",
    "    if unique[i] > 150:\n",
    "        print(i, unique[i])\n",
    "\n",
    "# dance pop 570, r&b 228, hip hop 269, rap 409, pop rap 291"
   ]
  },
  {
   "cell_type": "code",
   "execution_count": 72,
   "metadata": {},
   "outputs": [
    {
     "data": {
      "text/plain": [
       "['r&b', 'hip hop', 'pop rap', 'rap', 'dance pop']"
      ]
     },
     "execution_count": 72,
     "metadata": {},
     "output_type": "execute_result"
    }
   ],
   "source": [
    "lists = sorted(unique, key=unique.get)\n",
    "lists.pop()\n",
    "lists[-5:]"
   ]
  },
  {
   "cell_type": "code",
   "execution_count": 73,
   "metadata": {},
   "outputs": [
    {
     "name": "stdout",
     "output_type": "stream",
     "text": [
      "<class 'pandas.core.frame.DataFrame'>\n",
      "RangeIndex: 1263 entries, 0 to 1262\n",
      "Data columns (total 20 columns):\n",
      " #   Column             Non-Null Count  Dtype  \n",
      "---  ------             --------------  -----  \n",
      " 0   year               1263 non-null   int64  \n",
      " 1   track_name         1263 non-null   object \n",
      " 2   track_popularity   1263 non-null   int64  \n",
      " 3   album              1263 non-null   object \n",
      " 4   artist_name        1263 non-null   object \n",
      " 5   artist_genres      1263 non-null   object \n",
      " 6   artist_popularity  1263 non-null   int64  \n",
      " 7   danceability       1263 non-null   float64\n",
      " 8   energy             1263 non-null   float64\n",
      " 9   key                1263 non-null   int64  \n",
      " 10  loudness           1263 non-null   float64\n",
      " 11  mode               1263 non-null   int64  \n",
      " 12  speechiness        1263 non-null   float64\n",
      " 13  acousticness       1263 non-null   float64\n",
      " 14  instrumentalness   1263 non-null   float64\n",
      " 15  liveness           1263 non-null   float64\n",
      " 16  valence            1263 non-null   float64\n",
      " 17  tempo              1263 non-null   float64\n",
      " 18  duration_ms        1263 non-null   int64  \n",
      " 19  time_signature     1263 non-null   int64  \n",
      "dtypes: float64(9), int64(7), object(4)\n",
      "memory usage: 197.5+ KB\n"
     ]
    }
   ],
   "source": [
    "regex = r\"r&b|hip hop|pop rap|rap|dance pop\"\n",
    "clean_table = data.loc[data['artist_genres'].str.contains(regex, case=False, na=False)]\n",
    "clean_table.reset_index(inplace=True, drop=True)\n",
    "clean_table.info()\n",
    "clean_table.to_csv(\"data/col_data.csv\", sep=',', encoding='utf-8', index=False)"
   ]
  }
 ],
 "metadata": {
  "kernelspec": {
   "display_name": "Python 3 (ipykernel)",
   "language": "python",
   "name": "python3"
  },
  "language_info": {
   "codemirror_mode": {
    "name": "ipython",
    "version": 3
   },
   "file_extension": ".py",
   "mimetype": "text/x-python",
   "name": "python",
   "nbconvert_exporter": "python",
   "pygments_lexer": "ipython3",
   "version": "3.10.6"
  }
 },
 "nbformat": 4,
 "nbformat_minor": 2
}
